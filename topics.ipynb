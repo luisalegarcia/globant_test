{
 "cells": [
  {
   "cell_type": "code",
   "execution_count": 14,
   "metadata": {},
   "outputs": [],
   "source": [
    "import pandas as pd\n",
    "from nltk.tokenize import word_tokenize\n",
    "import gensim.corpora as corpora\n",
    "from gensim.models.ldamodel import LdaModel\n",
    "from pprint import pprint"
   ]
  },
  {
   "cell_type": "code",
   "execution_count": 2,
   "metadata": {},
   "outputs": [],
   "source": [
    "data = pd.read_parquet(\"data/preprocessed_data.parquet\")"
   ]
  },
  {
   "cell_type": "code",
   "execution_count": 7,
   "metadata": {},
   "outputs": [],
   "source": [
    "processed_texts = [word_tokenize(data[\"abstract\"].iloc[i]) for i in range(len(data))]"
   ]
  },
  {
   "cell_type": "code",
   "execution_count": 9,
   "metadata": {},
   "outputs": [],
   "source": [
    "id2word = corpora.Dictionary(processed_texts)"
   ]
  },
  {
   "cell_type": "code",
   "execution_count": 10,
   "metadata": {},
   "outputs": [],
   "source": [
    "corpus = [id2word.doc2bow(text) for text in processed_texts]"
   ]
  },
  {
   "cell_type": "code",
   "execution_count": 11,
   "metadata": {},
   "outputs": [],
   "source": [
    "num_topics = 6"
   ]
  },
  {
   "cell_type": "code",
   "execution_count": 13,
   "metadata": {},
   "outputs": [],
   "source": [
    "# Build LDA model\n",
    "lda_model = LdaModel(corpus=corpus, id2word=id2word, num_topics=num_topics, random_state=42, passes=10, alpha='auto', per_word_topics=True)"
   ]
  },
  {
   "cell_type": "code",
   "execution_count": 15,
   "metadata": {},
   "outputs": [
    {
     "name": "stdout",
     "output_type": "stream",
     "text": [
      "[(0,\n",
      "  '0.013*\"project\" + 0.010*\"technology\" + 0.010*\"system\" + 0.008*\"research\" + '\n",
      "  '0.007*\"broader\" + 0.007*\"using\" + 0.007*\"device\" + 0.006*\"impact\" + '\n",
      "  '0.006*\"design\" + 0.005*\"new\"'),\n",
      " (1,\n",
      "  '0.010*\"project\" + 0.009*\"research\" + 0.009*\"material\" + 0.007*\"new\" + '\n",
      "  '0.007*\"quantum\" + 0.006*\"using\" + 0.006*\"property\" + 0.006*\"structure\" + '\n",
      "  '0.006*\"award\" + 0.005*\"student\"'),\n",
      " (2,\n",
      "  '0.025*\"student\" + 0.022*\"research\" + 0.017*\"project\" + 0.013*\"program\" + '\n",
      "  '0.013*\"stem\" + 0.012*\"support\" + 0.011*\"science\" + 0.009*\"education\" + '\n",
      "  '0.008*\"teacher\" + 0.008*\"community\"'),\n",
      " (3,\n",
      "  '0.009*\"water\" + 0.009*\"project\" + 0.007*\"change\" + 0.007*\"ocean\" + '\n",
      "  '0.006*\"climate\" + 0.006*\"impact\" + 0.006*\"model\" + 0.005*\"using\" + '\n",
      "  '0.005*\"data\" + 0.005*\"earth\"'),\n",
      " (4,\n",
      "  '0.016*\"data\" + 0.015*\"project\" + 0.008*\"research\" + 0.008*\"model\" + '\n",
      "  '0.007*\"impact\" + 0.007*\"learning\" + 0.006*\"using\" + 0.006*\"system\" + '\n",
      "  '0.005*\"network\" + 0.005*\"support\"'),\n",
      " (5,\n",
      "  '0.011*\"project\" + 0.010*\"cell\" + 0.009*\"research\" + 0.007*\"specie\" + '\n",
      "  '0.007*\"using\" + 0.006*\"plant\" + 0.006*\"protein\" + 0.006*\"impact\" + '\n",
      "  '0.004*\"study\" + 0.004*\"award\"')]\n"
     ]
    }
   ],
   "source": [
    "pprint(lda_model.print_topics())"
   ]
  },
  {
   "cell_type": "code",
   "execution_count": null,
   "metadata": {},
   "outputs": [],
   "source": []
  }
 ],
 "metadata": {
  "kernelspec": {
   "display_name": "gym",
   "language": "python",
   "name": "python3"
  },
  "language_info": {
   "codemirror_mode": {
    "name": "ipython",
    "version": 3
   },
   "file_extension": ".py",
   "mimetype": "text/x-python",
   "name": "python",
   "nbconvert_exporter": "python",
   "pygments_lexer": "ipython3",
   "version": "3.10.4"
  }
 },
 "nbformat": 4,
 "nbformat_minor": 2
}
